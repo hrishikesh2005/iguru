{
  "nbformat": 4,
  "nbformat_minor": 0,
  "metadata": {
    "colab": {
      "provenance": [],
      "include_colab_link": true
    },
    "kernelspec": {
      "name": "python3",
      "display_name": "Python 3"
    },
    "language_info": {
      "name": "python"
    }
  },
  "cells": [
    {
      "cell_type": "markdown",
      "metadata": {
        "id": "view-in-github",
        "colab_type": "text"
      },
      "source": [
        "<a href=\"https://colab.research.google.com/github/hrishikesh2005/iguru/blob/main/NUMPY_1124iGurus.ipynb\" target=\"_parent\"><img src=\"https://colab.research.google.com/assets/colab-badge.svg\" alt=\"Open In Colab\"/></a>"
      ]
    },
    {
      "cell_type": "code",
      "execution_count": null,
      "metadata": {
        "id": "qWnd1H5-x--8"
      },
      "outputs": [],
      "source": [
        "# Data Science Libraries\n",
        "\n",
        "# a.) Numpy\n",
        "# b.) Pandas\n",
        "# c.) Matplotlib\n",
        "# d.) Seaborn\n",
        "\n",
        "# What Is Data Science ?\n",
        "\n",
        "'''\n",
        "Data science is the study of data to extract meaningful insights for business.\n",
        "\n",
        "Data Science is a combination of multiple disciplines that uses statistics,\n",
        "data analysis, and machine learning to analyze data and to extract knowledge and\n",
        "insights from it.\n",
        "\n",
        "Data science is the domain of study that deals with vast volumes of data using\n",
        "modern tools and techniques to find unseen patterns, derive meaningful information,\n",
        "and make business decisions. Data science uses complex machine learning algorithms\n",
        "to build predictive models.\n",
        "\n",
        "Data Science is about data gathering, analysis and decision-making.\n",
        "\n",
        "Data Science is about finding patterns in data, through analysis, and make future predictions.\n",
        "\n",
        "By using Data Science, companies are able to make:\n",
        "\n",
        "Better decisions (should we choose A or B)\n",
        "Predictive analysis (what will happen next?)\n",
        "Pattern discoveries (find pattern, or maybe hidden information in the data)\n",
        "\n",
        "\n",
        "Where is Data Science Needed?\n",
        "\n",
        "Data Science is used in many industries in the world today, e.g. banking,\n",
        "consultancy, healthcare, and manufacturing.\n",
        "\n",
        "Examples of where Data Science is needed:\n",
        "\n",
        "For route planning: To discover the best routes to ship\n",
        "To foresee delays for flight/ship/train etc. (through predictive analysis)\n",
        "To create promotional offers\n",
        "To find the best suited time to deliver goods\n",
        "To forecast the next years revenue for a company\n",
        "To analyze health benefit of training\n",
        "To predict who will win elections\n",
        "\n",
        "'''\n",
        "\n",
        "# Numpy\n",
        "\n",
        "'''\n",
        "\n",
        "NumPy is a Python library used for working with arrays.\n",
        "\n",
        "It also has functions for working in domain of linear algebra, fourier transform,\n",
        "and matrices.\n",
        "\n",
        "NumPy was created in 2005 by Travis Oliphant. It is an open source project and you\n",
        "can use it freely.\n",
        "\n",
        "NumPy stands for Numerical Python.\n",
        "\n",
        "Why Use NumPy?\n",
        "\n",
        "In Python we have lists that serve the purpose of arrays, but they are slow to process.\n",
        "\n",
        "NumPy aims to provide an array object that is up to 50x faster than traditional Python lists.\n",
        "\n",
        "The array object in NumPy is called ndarray, it provides a lot of supporting functions\n",
        "that make working with ndarray very easy.\n",
        "\n",
        "Arrays are very frequently used in data science, where speed and resources are very important.\n",
        "\n",
        "'''"
      ]
    },
    {
      "cell_type": "code",
      "source": [
        "import numpy as np\n",
        "print(np.__version__)"
      ],
      "metadata": {
        "colab": {
          "base_uri": "https://localhost:8080/"
        },
        "id": "wCF949lu2UHN",
        "outputId": "3e13bb7c-7b03-420d-daae-9d1de158eeef"
      },
      "execution_count": null,
      "outputs": [
        {
          "output_type": "stream",
          "name": "stdout",
          "text": [
            "1.26.4\n"
          ]
        }
      ]
    },
    {
      "cell_type": "code",
      "source": [
        "# array() : used to create 1D or 2D Array\n",
        "arr = np.array([10,20,30,40,50])\n",
        "print(arr)\n",
        "print(type(arr))"
      ],
      "metadata": {
        "colab": {
          "base_uri": "https://localhost:8080/"
        },
        "id": "jqszZwDD6CWC",
        "outputId": "e18658ed-20fb-4ae2-c670-818feb2ad95f"
      },
      "execution_count": null,
      "outputs": [
        {
          "output_type": "stream",
          "name": "stdout",
          "text": [
            "[10 20 30 40 50]\n",
            "<class 'numpy.ndarray'>\n"
          ]
        }
      ]
    },
    {
      "cell_type": "code",
      "source": [
        "# numpy array vs list\n",
        "list1 = [10,20,30,40,50]\n",
        "print(list1)\n",
        "\n",
        "# multiply each element by 2\n",
        "print(list1*2)\n",
        "\n",
        "for i in list1:\n",
        "  print(i*2)"
      ],
      "metadata": {
        "colab": {
          "base_uri": "https://localhost:8080/"
        },
        "id": "HyhLSueU7KBh",
        "outputId": "2e583743-1a40-4957-ac9e-c74b0a9e4008"
      },
      "execution_count": null,
      "outputs": [
        {
          "output_type": "stream",
          "name": "stdout",
          "text": [
            "[10, 20, 30, 40, 50]\n",
            "[10, 20, 30, 40, 50, 10, 20, 30, 40, 50]\n",
            "20\n",
            "40\n",
            "60\n",
            "80\n",
            "100\n"
          ]
        }
      ]
    },
    {
      "cell_type": "code",
      "source": [
        "arr = np.array([10,20,30,40,50])\n",
        "print(arr*2)"
      ],
      "metadata": {
        "colab": {
          "base_uri": "https://localhost:8080/"
        },
        "id": "XylDeTtH79U2",
        "outputId": "3a3b3c41-79aa-4a01-b724-0588608e343c"
      },
      "execution_count": null,
      "outputs": [
        {
          "output_type": "stream",
          "name": "stdout",
          "text": [
            "[ 20  40  60  80 100]\n"
          ]
        }
      ]
    },
    {
      "cell_type": "code",
      "source": [
        "# array is a collection of similar data type\n",
        "arr = np.array([10,56.21,'iGurus',True])\n",
        "print(arr)"
      ],
      "metadata": {
        "colab": {
          "base_uri": "https://localhost:8080/"
        },
        "id": "may0T_qh8jeX",
        "outputId": "ed276016-4575-47dc-c848-6a6b6219601f"
      },
      "execution_count": null,
      "outputs": [
        {
          "output_type": "stream",
          "name": "stdout",
          "text": [
            "['10' '56.21' 'iGurus' 'True']\n"
          ]
        }
      ]
    },
    {
      "cell_type": "code",
      "source": [
        "# numpy array()\n",
        "arr = np.array([10,20,30,40,50,60])\n",
        "print(arr)"
      ],
      "metadata": {
        "colab": {
          "base_uri": "https://localhost:8080/"
        },
        "id": "jXbsxRE1bEJt",
        "outputId": "0676eba1-1b12-4e84-b5fe-f4954a36b915"
      },
      "execution_count": null,
      "outputs": [
        {
          "output_type": "stream",
          "name": "stdout",
          "text": [
            "[10 20 30 40 50 60]\n"
          ]
        }
      ]
    },
    {
      "cell_type": "code",
      "source": [
        "# shape property\n",
        "# used to determine the dimensions of an array\n",
        "\n",
        "# for 1D array shape returns (n,)\n",
        "# where n is the number of elements\n",
        "\n",
        "# for 2D array shape returns (n,m)\n",
        "# where n is the number of rows and m is the number of columns\n",
        "\n",
        "print(arr.shape)"
      ],
      "metadata": {
        "colab": {
          "base_uri": "https://localhost:8080/"
        },
        "id": "Umn9Kv2Pbm6T",
        "outputId": "bd7eee4d-3e58-43cd-ce5a-85e36ccd3b69"
      },
      "execution_count": null,
      "outputs": [
        {
          "output_type": "stream",
          "name": "stdout",
          "text": [
            "(6,)\n"
          ]
        }
      ]
    },
    {
      "cell_type": "code",
      "source": [
        "# Indexing and Slicing\n",
        "print(arr)\n",
        "\n",
        "# 10 20 30 40 50 60\n",
        "# 0   1  2  3  4  5\n",
        "# -6  -5 -4 -3 -2 -1\n",
        "\n",
        "print(arr[2])\n",
        "print(arr[-1])\n",
        "\n",
        "print(arr[1:5])\n",
        "\n",
        "# wap to print array elements in a reverse order\n",
        "print(arr[::-1])"
      ],
      "metadata": {
        "colab": {
          "base_uri": "https://localhost:8080/"
        },
        "id": "EOirsYTfc1Zy",
        "outputId": "ebf6185f-9a0d-4551-822a-a074994eaa48"
      },
      "execution_count": null,
      "outputs": [
        {
          "output_type": "stream",
          "name": "stdout",
          "text": [
            "[10 20 30 40 50 60]\n",
            "30\n",
            "60\n",
            "[20 30 40 50]\n",
            "[60 50 40 30 20 10]\n"
          ]
        }
      ]
    },
    {
      "cell_type": "code",
      "source": [
        "# 2D Array\n",
        "arr = np.array([[1,2,3],[4,5,6],[7,8,9]])\n",
        "print(arr)\n",
        "print(arr.shape)\n",
        "\n",
        "arr = np.array([[1,2],[3,4],[5,6],[7,8]])\n",
        "print(arr.shape)"
      ],
      "metadata": {
        "colab": {
          "base_uri": "https://localhost:8080/"
        },
        "id": "1N6nqG3yfFA9",
        "outputId": "70764f86-89b4-4692-d87d-a32a4b060764"
      },
      "execution_count": null,
      "outputs": [
        {
          "output_type": "stream",
          "name": "stdout",
          "text": [
            "[[1 2 3]\n",
            " [4 5 6]\n",
            " [7 8 9]]\n",
            "(3, 3)\n",
            "(4, 2)\n"
          ]
        }
      ]
    },
    {
      "cell_type": "code",
      "source": [
        "# indexing in 2D Array\n",
        "arr = np.array([[1,2,3],[4,5,6],[7,8,9]])\n",
        "print(arr)\n",
        "print(arr.shape)\n",
        "\n",
        "print(arr[0,2])\n",
        "\n",
        "# print the second row\n",
        "print(arr[1,:])\n",
        "\n",
        "# print the third column\n",
        "print(arr[:,2])"
      ],
      "metadata": {
        "colab": {
          "base_uri": "https://localhost:8080/"
        },
        "id": "JU72VikWhMZH",
        "outputId": "edf82324-fcb6-4e10-faac-20d738a1ee68"
      },
      "execution_count": null,
      "outputs": [
        {
          "output_type": "stream",
          "name": "stdout",
          "text": [
            "[[1 2 3]\n",
            " [4 5 6]\n",
            " [7 8 9]]\n",
            "(3, 3)\n",
            "3\n",
            "[4 5 6]\n",
            "[3 6 9]\n"
          ]
        }
      ]
    },
    {
      "cell_type": "code",
      "source": [
        "# dtype property : used to determine the data type of an array\n",
        "arr = np.array([10,20,30,40,50])\n",
        "print(arr.dtype)\n",
        "\n",
        "arr = np.array([10,20,30,40,50],dtype='i2')\n",
        "print(arr.dtype)\n",
        "\n",
        "arr = np.array([10,20,30,40,50],dtype='i1')\n",
        "print(arr.dtype)"
      ],
      "metadata": {
        "colab": {
          "base_uri": "https://localhost:8080/"
        },
        "id": "XFYyvQbCjyyu",
        "outputId": "2a85b9d0-9aaa-4e7f-8816-f3392dc28e22"
      },
      "execution_count": null,
      "outputs": [
        {
          "output_type": "stream",
          "name": "stdout",
          "text": [
            "int64\n",
            "int16\n",
            "int8\n"
          ]
        }
      ]
    },
    {
      "cell_type": "code",
      "source": [
        "# astype() --> used to change the data type of an array into another data type\n",
        "\n",
        "arr = np.array([10,20,30])\n",
        "print(arr.dtype)\n",
        "\n",
        "arr = arr.astype('f')  # float64bits   f32bits\n",
        "print(arr.dtype)\n",
        "print(arr)"
      ],
      "metadata": {
        "colab": {
          "base_uri": "https://localhost:8080/"
        },
        "id": "CjQBXyvWj9jG",
        "outputId": "4b47b84f-4ced-4867-d739-7c80333ab855"
      },
      "execution_count": null,
      "outputs": [
        {
          "output_type": "stream",
          "name": "stdout",
          "text": [
            "int64\n",
            "float32\n",
            "[10. 20. 30.]\n"
          ]
        }
      ]
    },
    {
      "cell_type": "code",
      "source": [
        "arr = np.array([10.2,20.3,30.4],dtype='i')\n",
        "print(arr.dtype)\n",
        "print(arr)"
      ],
      "metadata": {
        "colab": {
          "base_uri": "https://localhost:8080/"
        },
        "id": "HL0EwVSLlB8K",
        "outputId": "1acc102d-0b00-4c68-af3e-91752d066761"
      },
      "execution_count": null,
      "outputs": [
        {
          "output_type": "stream",
          "name": "stdout",
          "text": [
            "int32\n",
            "[10 20 30]\n"
          ]
        }
      ]
    },
    {
      "cell_type": "code",
      "source": [
        "# copy()  and  view()\n",
        "# in copy() if you make any changes in original array , it won't effect copied array\n",
        "# and if you make any changes in copied array , it won't effect original array\n",
        "\n",
        "org_arr = np.array([10,20,30,40,50,60])\n",
        "copied_arr = org_arr.copy()\n",
        "\n",
        "print(org_arr)\n",
        "print(copied_arr)\n",
        "\n",
        "copied_arr[1] = 200\n",
        "print('Original Array : ',org_arr)\n",
        "print('Copied Array : ',copied_arr)"
      ],
      "metadata": {
        "colab": {
          "base_uri": "https://localhost:8080/"
        },
        "id": "jGemRQDEl97N",
        "outputId": "1678194d-03b1-40e6-bb7a-75fa96d5813a"
      },
      "execution_count": null,
      "outputs": [
        {
          "output_type": "stream",
          "name": "stdout",
          "text": [
            "[10 20 30 40 50 60]\n",
            "[10 20 30 40 50 60]\n",
            "Original Array :  [10 20 30 40 50 60]\n",
            "Copied Array :  [ 10 200  30  40  50  60]\n"
          ]
        }
      ]
    },
    {
      "cell_type": "code",
      "source": [
        "# in view() if you make any changes in original array , it will effect copied array\n",
        "# and if you make any changes in copied array , it will effect original array\n",
        "\n",
        "org_arr = np.array([10,20,30,40,50,60])\n",
        "copied_arr = org_arr.view()\n",
        "\n",
        "print(org_arr)\n",
        "print(copied_arr)\n",
        "\n",
        "copied_arr[1] = 200\n",
        "print('Original Array : ',org_arr)\n",
        "print('Copied Array : ',copied_arr)"
      ],
      "metadata": {
        "colab": {
          "base_uri": "https://localhost:8080/"
        },
        "id": "Hd-xLOlvnoLO",
        "outputId": "b1ac744f-d1a5-40ec-c1e4-b6b6b0a30a9e"
      },
      "execution_count": null,
      "outputs": [
        {
          "output_type": "stream",
          "name": "stdout",
          "text": [
            "[10 20 30 40 50 60]\n",
            "[10 20 30 40 50 60]\n",
            "Original Array :  [ 10 200  30  40  50  60]\n",
            "Copied Array :  [ 10 200  30  40  50  60]\n"
          ]
        }
      ]
    },
    {
      "cell_type": "code",
      "source": [
        "# reshape()\n",
        "# used to change the dimensions of an array\n",
        "\n",
        "# convert 1D into 2D\n",
        "\n",
        "arr = np.array([1,2,3,4,5,6,7,8,9,10,11,12])\n",
        "print(arr.shape)   # 12 -->  2X6  6X2  3X4  4X3  12X1  1X12\n",
        "\n",
        "arr = arr.reshape(2,6)\n",
        "print(arr)\n",
        "print(arr.shape)"
      ],
      "metadata": {
        "colab": {
          "base_uri": "https://localhost:8080/"
        },
        "id": "ogDeWJ7knurG",
        "outputId": "35d01254-f50b-4867-a9ac-285e8e9a0573"
      },
      "execution_count": null,
      "outputs": [
        {
          "output_type": "stream",
          "name": "stdout",
          "text": [
            "(12,)\n",
            "[[ 1  2  3  4  5  6]\n",
            " [ 7  8  9 10 11 12]]\n",
            "(2, 6)\n"
          ]
        }
      ]
    },
    {
      "cell_type": "code",
      "source": [
        "# convert 2D into 1D\n",
        "arr = np.array([[1,2,3],[4,5,6]])\n",
        "print(arr)\n",
        "print(arr.shape)\n",
        "\n",
        "arr = arr.reshape(6)\n",
        "print(arr)\n",
        "print(arr.shape)"
      ],
      "metadata": {
        "colab": {
          "base_uri": "https://localhost:8080/"
        },
        "id": "oo7UWZPTrgGj",
        "outputId": "f8850e84-6a4d-4f1b-e4a5-0537e6291249"
      },
      "execution_count": null,
      "outputs": [
        {
          "output_type": "stream",
          "name": "stdout",
          "text": [
            "[[1 2 3]\n",
            " [4 5 6]]\n",
            "(2, 3)\n",
            "[1 2 3 4 5 6]\n",
            "(6,)\n"
          ]
        }
      ]
    },
    {
      "cell_type": "code",
      "source": [
        "arr = np.array([[1,2,3],[4,5,6]])\n",
        "arr = arr.reshape(-1)\n",
        "print(arr)\n",
        "print(arr.shape)"
      ],
      "metadata": {
        "colab": {
          "base_uri": "https://localhost:8080/"
        },
        "id": "4B61fg1Yr1p1",
        "outputId": "c6677d9b-1e81-4d7b-bc30-eb972859c1d7"
      },
      "execution_count": null,
      "outputs": [
        {
          "output_type": "stream",
          "name": "stdout",
          "text": [
            "[1 2 3 4 5 6]\n",
            "(6,)\n"
          ]
        }
      ]
    },
    {
      "cell_type": "code",
      "source": [
        "arr = np.array([[1,2,3],[4,5,6]])\n",
        "arr = arr.flatten()\n",
        "print(arr)\n",
        "print(arr.shape)"
      ],
      "metadata": {
        "colab": {
          "base_uri": "https://localhost:8080/"
        },
        "id": "mYFiCs0EsmIU",
        "outputId": "a9ec6c15-03c5-4262-9690-56576a1b81d9"
      },
      "execution_count": null,
      "outputs": [
        {
          "output_type": "stream",
          "name": "stdout",
          "text": [
            "[1 2 3 4 5 6]\n",
            "(6,)\n"
          ]
        }
      ]
    },
    {
      "cell_type": "code",
      "source": [
        "# Filter an array\n",
        "arr = np.array([1,4,2,7,8,3,9,10,2,4])\n",
        "res = arr > 5\n",
        "print(res)  # BOOLEAN MASKING\n",
        "print(arr[res])"
      ],
      "metadata": {
        "colab": {
          "base_uri": "https://localhost:8080/"
        },
        "id": "fpasdgIVtEmR",
        "outputId": "dd33fd18-cb57-41da-c068-cecc0e23599b"
      },
      "execution_count": null,
      "outputs": [
        {
          "output_type": "stream",
          "name": "stdout",
          "text": [
            "[False False False  True  True False  True  True False False]\n",
            "[ 7  8  9 10]\n"
          ]
        }
      ]
    },
    {
      "cell_type": "code",
      "source": [
        "arr = np.array([1,4,2,7,8,3,9,10,2,4])\n",
        "res = arr%2==0\n",
        "print(res)  # BOOLEAN MASKING\n",
        "print(arr[res])"
      ],
      "metadata": {
        "colab": {
          "base_uri": "https://localhost:8080/"
        },
        "id": "LDvKwn1KuL9g",
        "outputId": "5f61a04d-1d26-4580-aeda-2bb3fe414e14"
      },
      "execution_count": null,
      "outputs": [
        {
          "output_type": "stream",
          "name": "stdout",
          "text": [
            "[False  True  True False  True False False  True  True  True]\n",
            "[ 4  2  8 10  2  4]\n"
          ]
        }
      ]
    },
    {
      "cell_type": "code",
      "source": [
        "arr = np.array([1,4,2,7,8,3,9,10,2,4])\n",
        "res = (arr > 4) & (arr < 9)\n",
        "print(arr[res])"
      ],
      "metadata": {
        "colab": {
          "base_uri": "https://localhost:8080/"
        },
        "id": "CicRIO2Wu6uI",
        "outputId": "b6e08488-bf47-4ec9-955f-4537d52473f5"
      },
      "execution_count": null,
      "outputs": [
        {
          "output_type": "stream",
          "name": "stdout",
          "text": [
            "[7 8]\n"
          ]
        }
      ]
    },
    {
      "cell_type": "code",
      "source": [
        "# Modify Elements Using Boolean Indexing\n",
        "arr = np.array([10,12,15,18,19,21,25,32,35,36])\n",
        "print(arr)\n",
        "copied_arr = arr.copy()\n",
        "copied_arr[arr%2==0] = 0\n",
        "print(copied_arr)"
      ],
      "metadata": {
        "colab": {
          "base_uri": "https://localhost:8080/"
        },
        "id": "9IfI_NcgvlXE",
        "outputId": "54399e77-4c4c-41b6-d26c-3eb8bfbedf18"
      },
      "execution_count": null,
      "outputs": [
        {
          "output_type": "stream",
          "name": "stdout",
          "text": [
            "[10 12 15 18 19 21 25 32 35 36]\n",
            "[ 0  0 15  0 19 21 25  0 35  0]\n"
          ]
        }
      ]
    },
    {
      "cell_type": "code",
      "source": [
        "# where()  -->  used to return indexNumbers in an output\n",
        "arr = np.array([1,4,2,7,8,3,9,10,2,4])\n",
        "res = np.where(arr>5)\n",
        "print(res)"
      ],
      "metadata": {
        "colab": {
          "base_uri": "https://localhost:8080/"
        },
        "id": "f-d0eRLOtuB4",
        "outputId": "43ca10d1-f3b9-4285-a353-f7b8d7ad383a"
      },
      "execution_count": null,
      "outputs": [
        {
          "output_type": "stream",
          "name": "stdout",
          "text": [
            "(array([3, 4, 6, 7]),)\n"
          ]
        }
      ]
    },
    {
      "cell_type": "code",
      "source": [
        "arr = np.array([1,4,2,7,8,3,9,10,2,4])\n",
        "res = np.where(arr>5)\n",
        "print(arr[res])"
      ],
      "metadata": {
        "colab": {
          "base_uri": "https://localhost:8080/"
        },
        "id": "W9U0fmDVumZy",
        "outputId": "b78a3635-0771-43fd-ee82-3bfefd88488b"
      },
      "execution_count": null,
      "outputs": [
        {
          "output_type": "stream",
          "name": "stdout",
          "text": [
            "[ 7  8  9 10]\n"
          ]
        }
      ]
    },
    {
      "cell_type": "code",
      "source": [
        "# concatenate()\n",
        "arr1 = np.array([1,2,3,4])\n",
        "arr2 = np.array([5,6,7,8])\n",
        "arr = np.concatenate((arr1,arr2))\n",
        "print(arr)"
      ],
      "metadata": {
        "colab": {
          "base_uri": "https://localhost:8080/"
        },
        "id": "6PjyMKUlvKWD",
        "outputId": "998228bf-416d-4676-c305-6e567915e854"
      },
      "execution_count": null,
      "outputs": [
        {
          "output_type": "stream",
          "name": "stdout",
          "text": [
            "[1 2 3 4 5 6 7 8]\n"
          ]
        }
      ]
    },
    {
      "cell_type": "code",
      "source": [
        "arr1 = np.array([[1,2],[3,4]])\n",
        "arr2 = np.array([[5,6],[7,8],[9,10]])\n",
        "arr = np.concatenate((arr1,arr2))\n",
        "print(arr)"
      ],
      "metadata": {
        "colab": {
          "base_uri": "https://localhost:8080/"
        },
        "id": "LKhxVsubvwRo",
        "outputId": "8dee90ef-e948-4101-8df5-928de2c68fd8"
      },
      "execution_count": null,
      "outputs": [
        {
          "output_type": "stream",
          "name": "stdout",
          "text": [
            "[[ 1  2]\n",
            " [ 3  4]\n",
            " [ 5  6]\n",
            " [ 7  8]\n",
            " [ 9 10]]\n"
          ]
        }
      ]
    },
    {
      "cell_type": "code",
      "source": [
        "# array_split(arrayName,splitValue)\n",
        "arr1 = np.array([1,2,3,4,5,6,7,8,9,10,11,12,13])\n",
        "arr = np.array_split(arr1,3)\n",
        "print(arr)"
      ],
      "metadata": {
        "colab": {
          "base_uri": "https://localhost:8080/"
        },
        "id": "1tAsyr9YwpcQ",
        "outputId": "63860bd8-aa28-4172-b5c0-aec9fdad45cb"
      },
      "execution_count": null,
      "outputs": [
        {
          "output_type": "stream",
          "name": "stdout",
          "text": [
            "[array([1, 2, 3, 4, 5]), array([6, 7, 8, 9]), array([10, 11, 12, 13])]\n"
          ]
        }
      ]
    },
    {
      "cell_type": "code",
      "source": [
        "# sorting of an array\n",
        "# sort()\n",
        "\n",
        "arr = np.array([1,4,2,7,9,3,5,8,6,10])\n",
        "print(np.sort(arr))   # by default it will sort the array in ascending order"
      ],
      "metadata": {
        "colab": {
          "base_uri": "https://localhost:8080/"
        },
        "id": "E3J7dSboxuc1",
        "outputId": "87f12426-eaf9-4d05-fdc9-8155093bb74b"
      },
      "execution_count": null,
      "outputs": [
        {
          "output_type": "stream",
          "name": "stdout",
          "text": [
            "[ 1  2  3  4  5  6  7  8  9 10]\n"
          ]
        }
      ]
    },
    {
      "cell_type": "code",
      "source": [
        "arr = np.array([1,4,2,7,9,3,5,8,6,10])\n",
        "print(np.sort(arr)[::-1]) # descending order"
      ],
      "metadata": {
        "colab": {
          "base_uri": "https://localhost:8080/"
        },
        "id": "p9NZ9U58yQ6x",
        "outputId": "ecc74c2f-2b0c-4797-928b-a1fcb5313ab6"
      },
      "execution_count": null,
      "outputs": [
        {
          "output_type": "stream",
          "name": "stdout",
          "text": [
            "[10  9  8  7  6  5  4  3  2  1]\n"
          ]
        }
      ]
    },
    {
      "cell_type": "code",
      "source": [
        "# zeros() it will fill an array with 0's\n",
        "# default data type is FLOAT\n",
        "\n",
        "# 1D array\n",
        "arr = np.zeros(7)\n",
        "print(arr)"
      ],
      "metadata": {
        "colab": {
          "base_uri": "https://localhost:8080/"
        },
        "id": "BK8wVe8zy80A",
        "outputId": "9e6e97b5-6405-49f8-d78d-aa68494be4d6"
      },
      "execution_count": null,
      "outputs": [
        {
          "output_type": "stream",
          "name": "stdout",
          "text": [
            "[0. 0. 0. 0. 0. 0. 0.]\n"
          ]
        }
      ]
    },
    {
      "cell_type": "code",
      "source": [
        "# 2D array\n",
        "arr = np.zeros((3,3),dtype='i')\n",
        "print(arr)"
      ],
      "metadata": {
        "colab": {
          "base_uri": "https://localhost:8080/"
        },
        "id": "5M4WkTdxz_Wl",
        "outputId": "9635a1ec-cbfa-4781-fc79-1affbe9a4ddf"
      },
      "execution_count": null,
      "outputs": [
        {
          "output_type": "stream",
          "name": "stdout",
          "text": [
            "[[0 0 0]\n",
            " [0 0 0]\n",
            " [0 0 0]]\n"
          ]
        }
      ]
    },
    {
      "cell_type": "code",
      "source": [
        "# ones() it will fill an array with 1's\n",
        "# default data type is FLOAT\n",
        "\n",
        "# 1D array\n",
        "arr = np.ones(7)\n",
        "print(arr)"
      ],
      "metadata": {
        "colab": {
          "base_uri": "https://localhost:8080/"
        },
        "id": "lJHMGIUi0yWt",
        "outputId": "13c61205-056b-4ea5-8a41-bb6c899faedf"
      },
      "execution_count": null,
      "outputs": [
        {
          "output_type": "stream",
          "name": "stdout",
          "text": [
            "[1. 1. 1. 1. 1. 1. 1.]\n"
          ]
        }
      ]
    },
    {
      "cell_type": "code",
      "source": [
        "# full(size,constantValue)\n",
        "# used to fill an array with a constant value\n",
        "\n",
        "x = np.full(9,121)\n",
        "print(x)"
      ],
      "metadata": {
        "colab": {
          "base_uri": "https://localhost:8080/"
        },
        "id": "nxQ0AqI01Q3L",
        "outputId": "8fd731b9-f009-40d1-952b-59aaa0b56f70"
      },
      "execution_count": null,
      "outputs": [
        {
          "output_type": "stream",
          "name": "stdout",
          "text": [
            "[121 121 121 121 121 121 121 121 121]\n"
          ]
        }
      ]
    },
    {
      "cell_type": "code",
      "source": [
        "x = np.full((3,4),24)\n",
        "print(x)"
      ],
      "metadata": {
        "colab": {
          "base_uri": "https://localhost:8080/"
        },
        "id": "GD8cIV-T1rty",
        "outputId": "a3e64767-be37-4d8e-cda1-b1c227c0d25d"
      },
      "execution_count": null,
      "outputs": [
        {
          "output_type": "stream",
          "name": "stdout",
          "text": [
            "[[24 24 24 24]\n",
            " [24 24 24 24]\n",
            " [24 24 24 24]]\n"
          ]
        }
      ]
    },
    {
      "cell_type": "code",
      "source": [
        "# sum()\n",
        "print(np.sum(x))"
      ],
      "metadata": {
        "colab": {
          "base_uri": "https://localhost:8080/"
        },
        "id": "owdLioQQ2UMx",
        "outputId": "cf35b714-c997-4302-e9d5-bef0aed9b49c"
      },
      "execution_count": null,
      "outputs": [
        {
          "output_type": "stream",
          "name": "stdout",
          "text": [
            "288\n"
          ]
        }
      ]
    },
    {
      "cell_type": "code",
      "source": [
        "# Numpy Random Module\n",
        "from numpy import random\n",
        "x = random.randint(100)\n",
        "print(x)"
      ],
      "metadata": {
        "colab": {
          "base_uri": "https://localhost:8080/"
        },
        "id": "Yry94Eg1257D",
        "outputId": "5ac1caef-5fbf-4284-cec1-c56722d108ff"
      },
      "execution_count": null,
      "outputs": [
        {
          "output_type": "stream",
          "name": "stdout",
          "text": [
            "50\n"
          ]
        }
      ]
    },
    {
      "cell_type": "code",
      "source": [
        "x = random.randint(120,150)\n",
        "print(x)"
      ],
      "metadata": {
        "colab": {
          "base_uri": "https://localhost:8080/"
        },
        "id": "pKKDPEP63kXs",
        "outputId": "7e6578d8-4216-463f-d69a-7e1627f540dc"
      },
      "execution_count": null,
      "outputs": [
        {
          "output_type": "stream",
          "name": "stdout",
          "text": [
            "126\n"
          ]
        }
      ]
    },
    {
      "cell_type": "code",
      "source": [
        "# rand() method generate a random float value b/w 0 and 1\n",
        "x = random.rand()\n",
        "print(x)"
      ],
      "metadata": {
        "colab": {
          "base_uri": "https://localhost:8080/"
        },
        "id": "VYDyec9O3xkH",
        "outputId": "b9f05e22-4440-4aa3-d980-e34f69c56e8c"
      },
      "execution_count": null,
      "outputs": [
        {
          "output_type": "stream",
          "name": "stdout",
          "text": [
            "0.14818191758275367\n"
          ]
        }
      ]
    },
    {
      "cell_type": "code",
      "source": [
        "arr = random.randint(100,size=(8))\n",
        "print(arr)"
      ],
      "metadata": {
        "colab": {
          "base_uri": "https://localhost:8080/"
        },
        "id": "tWvt-Jzt4p1i",
        "outputId": "c75b24a2-d192-4ae3-8da0-7a35701ce249"
      },
      "execution_count": null,
      "outputs": [
        {
          "output_type": "stream",
          "name": "stdout",
          "text": [
            "[25 54 79 89  3 96 86 38]\n"
          ]
        }
      ]
    },
    {
      "cell_type": "code",
      "source": [
        "arr = random.randint(20,50,size=(4,5))\n",
        "print(arr)"
      ],
      "metadata": {
        "colab": {
          "base_uri": "https://localhost:8080/"
        },
        "id": "5GylGHh848hl",
        "outputId": "ebdbc9ff-577e-4805-fc47-ffec1de796ef"
      },
      "execution_count": null,
      "outputs": [
        {
          "output_type": "stream",
          "name": "stdout",
          "text": [
            "[[27 29 40 43 37]\n",
            " [42 49 38 48 32]\n",
            " [25 23 23 33 31]\n",
            " [37 49 48 42 24]]\n"
          ]
        }
      ]
    },
    {
      "cell_type": "code",
      "source": [
        "x = random.rand(5)\n",
        "print(x)"
      ],
      "metadata": {
        "colab": {
          "base_uri": "https://localhost:8080/"
        },
        "id": "bDTw5N9V5d0b",
        "outputId": "df850074-6a32-40c7-a054-ae6879952b7b"
      },
      "execution_count": null,
      "outputs": [
        {
          "output_type": "stream",
          "name": "stdout",
          "text": [
            "[0.05343387 0.68673601 0.64306819 0.53448527 0.87355546]\n"
          ]
        }
      ]
    },
    {
      "cell_type": "code",
      "source": [
        "x = random.rand(3,3)\n",
        "print(x)"
      ],
      "metadata": {
        "colab": {
          "base_uri": "https://localhost:8080/"
        },
        "id": "2rWlwhp85nyZ",
        "outputId": "8c69b621-039c-489f-b721-9f89681f768a"
      },
      "execution_count": null,
      "outputs": [
        {
          "output_type": "stream",
          "name": "stdout",
          "text": [
            "[[0.97871943 0.54700141 0.6035188 ]\n",
            " [0.16985652 0.19117898 0.70218644]\n",
            " [0.6754548  0.55366975 0.37930344]]\n"
          ]
        }
      ]
    },
    {
      "cell_type": "code",
      "source": [
        "# Numpy Broadcasting\n",
        "arr1 = np.array([2,3,4])\n",
        "arr2 = np.array([7,6,8])\n",
        "print(arr1 + arr2)\n",
        "print(arr1 * arr2)"
      ],
      "metadata": {
        "colab": {
          "base_uri": "https://localhost:8080/"
        },
        "id": "mNPMbGti6Ndb",
        "outputId": "1b2baedc-6dfc-49ae-862a-88805712d8d2"
      },
      "execution_count": null,
      "outputs": [
        {
          "output_type": "stream",
          "name": "stdout",
          "text": [
            "[ 9  9 12]\n",
            "[14 18 32]\n"
          ]
        }
      ]
    },
    {
      "cell_type": "code",
      "source": [
        "# if arrays are of diff dimensions\n",
        "# For multiplicatio\n",
        "#The dimensions are equal or One of the dimensions is 1.\n",
        "arr1 = np.array([2,3,4])\n",
        "arr2 = np.array([7,6])\n",
        "print(arr1 * arr2)"
      ],
      "metadata": {
        "colab": {
          "base_uri": "https://localhost:8080/",
          "height": 176
        },
        "id": "ZxuqKu8u6mcF",
        "outputId": "5df0c772-645d-4c9e-ae8d-b048eca5cef8"
      },
      "execution_count": null,
      "outputs": [
        {
          "output_type": "error",
          "ename": "ValueError",
          "evalue": "operands could not be broadcast together with shapes (3,) (2,) ",
          "traceback": [
            "\u001b[0;31m---------------------------------------------------------------------------\u001b[0m",
            "\u001b[0;31mValueError\u001b[0m                                Traceback (most recent call last)",
            "\u001b[0;32m<ipython-input-45-45ace50b05af>\u001b[0m in \u001b[0;36m<cell line: 4>\u001b[0;34m()\u001b[0m\n\u001b[1;32m      2\u001b[0m \u001b[0marr1\u001b[0m \u001b[0;34m=\u001b[0m \u001b[0mnp\u001b[0m\u001b[0;34m.\u001b[0m\u001b[0marray\u001b[0m\u001b[0;34m(\u001b[0m\u001b[0;34m[\u001b[0m\u001b[0;36m2\u001b[0m\u001b[0;34m,\u001b[0m\u001b[0;36m3\u001b[0m\u001b[0;34m,\u001b[0m\u001b[0;36m4\u001b[0m\u001b[0;34m]\u001b[0m\u001b[0;34m)\u001b[0m\u001b[0;34m\u001b[0m\u001b[0;34m\u001b[0m\u001b[0m\n\u001b[1;32m      3\u001b[0m \u001b[0marr2\u001b[0m \u001b[0;34m=\u001b[0m \u001b[0mnp\u001b[0m\u001b[0;34m.\u001b[0m\u001b[0marray\u001b[0m\u001b[0;34m(\u001b[0m\u001b[0;34m[\u001b[0m\u001b[0;36m7\u001b[0m\u001b[0;34m,\u001b[0m\u001b[0;36m6\u001b[0m\u001b[0;34m]\u001b[0m\u001b[0;34m)\u001b[0m\u001b[0;34m\u001b[0m\u001b[0;34m\u001b[0m\u001b[0m\n\u001b[0;32m----> 4\u001b[0;31m \u001b[0mprint\u001b[0m\u001b[0;34m(\u001b[0m\u001b[0marr1\u001b[0m \u001b[0;34m*\u001b[0m \u001b[0marr2\u001b[0m\u001b[0;34m)\u001b[0m\u001b[0;34m\u001b[0m\u001b[0;34m\u001b[0m\u001b[0m\n\u001b[0m",
            "\u001b[0;31mValueError\u001b[0m: operands could not be broadcast together with shapes (3,) (2,) "
          ]
        }
      ]
    },
    {
      "cell_type": "code",
      "source": [
        "arr1 = np.array([2,3,4])\n",
        "arr2 = np.array([7])       # 7 7 7\n",
        "print(arr1 * arr2)"
      ],
      "metadata": {
        "colab": {
          "base_uri": "https://localhost:8080/"
        },
        "id": "2MDGuoRw7UG6",
        "outputId": "8e719fad-5527-4cea-a28d-2147724eb383"
      },
      "execution_count": null,
      "outputs": [
        {
          "output_type": "stream",
          "name": "stdout",
          "text": [
            "[14 21 28]\n"
          ]
        }
      ]
    }
  ]
}